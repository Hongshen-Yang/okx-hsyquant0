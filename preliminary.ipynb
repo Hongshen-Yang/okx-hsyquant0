{
 "cells": [
  {
   "cell_type": "markdown",
   "metadata": {},
   "source": [
    "# Preliminary\n",
    "\n",
    "The purpose of preliminaries is to use historical data to detect a profitable pattern"
   ]
  },
  {
   "cell_type": "code",
   "execution_count": 1,
   "metadata": {},
   "outputs": [],
   "source": [
    "import pandas as pd\n",
    "\n",
    "from utils.read2df import read2df, unify_dfs\n",
    "\n",
    "symbols = ['BTCUSDT', 'ETHUSDT']\n",
    "freqs = {'3m': 3, '5m':5}\n",
    "period = 1000\n",
    "\n",
    "date_format = '%Y-%m-%d'\n",
    "start_date = '2023-01-01'\n",
    "end_date = '2023-12-31'"
   ]
  },
  {
   "cell_type": "code",
   "execution_count": 2,
   "metadata": {},
   "outputs": [],
   "source": [
    "%%capture\n",
    "if symbols is None:\n",
    "    !python binance-public-data/python/download-kline.py \\\n",
    "        -i {\" \".join(list(freqs.keys()))} -startDate {start_date} -endDate {end_date} -t spot -skip-daily 1\n",
    "else:\n",
    "    !python binance-public-data/python/download-kline.py \\\n",
    "        -s {\" \".join(symbols)} -i {\" \".join(list(freqs.keys()))} -startDate {start_date} -t spot -skip-daily 1"
   ]
  },
  {
   "cell_type": "code",
   "execution_count": 3,
   "metadata": {},
   "outputs": [],
   "source": [
    "dfs = read2df(symbols=symbols, freqs={'3m': 3}, marketType='spot')\n",
    "tics, df = unify_dfs(dfs, symbols=symbols, period=period)"
   ]
  },
  {
   "cell_type": "code",
   "execution_count": 4,
   "metadata": {},
   "outputs": [
    {
     "data": {
      "text/html": [
       "<div>\n",
       "<style scoped>\n",
       "    .dataframe tbody tr th:only-of-type {\n",
       "        vertical-align: middle;\n",
       "    }\n",
       "\n",
       "    .dataframe tbody tr th {\n",
       "        vertical-align: top;\n",
       "    }\n",
       "\n",
       "    .dataframe thead th {\n",
       "        text-align: right;\n",
       "    }\n",
       "</style>\n",
       "<table border=\"1\" class=\"dataframe\">\n",
       "  <thead>\n",
       "    <tr style=\"text-align: right;\">\n",
       "      <th></th>\n",
       "      <th>index</th>\n",
       "      <th>time</th>\n",
       "      <th>close0</th>\n",
       "      <th>itvl</th>\n",
       "      <th>datetime</th>\n",
       "      <th>close1</th>\n",
       "      <th>spread</th>\n",
       "      <th>zscore</th>\n",
       "    </tr>\n",
       "  </thead>\n",
       "  <tbody>\n",
       "    <tr>\n",
       "      <th>2000</th>\n",
       "      <td>2000</td>\n",
       "      <td>1672891379999</td>\n",
       "      <td>16826.60</td>\n",
       "      <td>3m</td>\n",
       "      <td>2023-01-05 04:02:59.999</td>\n",
       "      <td>1253.25</td>\n",
       "      <td>-22.681038</td>\n",
       "      <td>-0.446050</td>\n",
       "    </tr>\n",
       "    <tr>\n",
       "      <th>2100</th>\n",
       "      <td>2100</td>\n",
       "      <td>1672909379999</td>\n",
       "      <td>16805.39</td>\n",
       "      <td>3m</td>\n",
       "      <td>2023-01-05 09:02:59.999</td>\n",
       "      <td>1249.80</td>\n",
       "      <td>-26.840315</td>\n",
       "      <td>-0.619306</td>\n",
       "    </tr>\n",
       "    <tr>\n",
       "      <th>2200</th>\n",
       "      <td>2200</td>\n",
       "      <td>1672927379999</td>\n",
       "      <td>16777.06</td>\n",
       "      <td>3m</td>\n",
       "      <td>2023-01-05 14:02:59.999</td>\n",
       "      <td>1247.16</td>\n",
       "      <td>-40.056583</td>\n",
       "      <td>-1.219891</td>\n",
       "    </tr>\n",
       "    <tr>\n",
       "      <th>2300</th>\n",
       "      <td>2300</td>\n",
       "      <td>1672945379999</td>\n",
       "      <td>16844.09</td>\n",
       "      <td>3m</td>\n",
       "      <td>2023-01-05 19:02:59.999</td>\n",
       "      <td>1251.55</td>\n",
       "      <td>8.160032</td>\n",
       "      <td>1.290822</td>\n",
       "    </tr>\n",
       "    <tr>\n",
       "      <th>2400</th>\n",
       "      <td>2400</td>\n",
       "      <td>1672963379999</td>\n",
       "      <td>16829.52</td>\n",
       "      <td>3m</td>\n",
       "      <td>2023-01-06 00:02:59.999</td>\n",
       "      <td>1250.87</td>\n",
       "      <td>-4.148572</td>\n",
       "      <td>0.482245</td>\n",
       "    </tr>\n",
       "    <tr>\n",
       "      <th>2500</th>\n",
       "      <td>2500</td>\n",
       "      <td>1672981379999</td>\n",
       "      <td>16818.06</td>\n",
       "      <td>3m</td>\n",
       "      <td>2023-01-06 05:02:59.999</td>\n",
       "      <td>1249.54</td>\n",
       "      <td>-6.927411</td>\n",
       "      <td>0.202757</td>\n",
       "    </tr>\n",
       "    <tr>\n",
       "      <th>2600</th>\n",
       "      <td>2600</td>\n",
       "      <td>1672999379999</td>\n",
       "      <td>16785.82</td>\n",
       "      <td>3m</td>\n",
       "      <td>2023-01-06 10:02:59.999</td>\n",
       "      <td>1248.08</td>\n",
       "      <td>-21.412092</td>\n",
       "      <td>-0.610330</td>\n",
       "    </tr>\n",
       "    <tr>\n",
       "      <th>2700</th>\n",
       "      <td>2700</td>\n",
       "      <td>1673017379999</td>\n",
       "      <td>16775.41</td>\n",
       "      <td>3m</td>\n",
       "      <td>2023-01-06 15:02:59.999</td>\n",
       "      <td>1250.70</td>\n",
       "      <td>-42.401863</td>\n",
       "      <td>-1.672495</td>\n",
       "    </tr>\n",
       "    <tr>\n",
       "      <th>2800</th>\n",
       "      <td>2800</td>\n",
       "      <td>1673035379999</td>\n",
       "      <td>16963.32</td>\n",
       "      <td>3m</td>\n",
       "      <td>2023-01-06 20:02:59.999</td>\n",
       "      <td>1273.39</td>\n",
       "      <td>42.149267</td>\n",
       "      <td>2.521667</td>\n",
       "    </tr>\n",
       "    <tr>\n",
       "      <th>2900</th>\n",
       "      <td>2900</td>\n",
       "      <td>1673053379999</td>\n",
       "      <td>16979.80</td>\n",
       "      <td>3m</td>\n",
       "      <td>2023-01-07 01:02:59.999</td>\n",
       "      <td>1270.90</td>\n",
       "      <td>45.184720</td>\n",
       "      <td>2.021860</td>\n",
       "    </tr>\n",
       "  </tbody>\n",
       "</table>\n",
       "</div>"
      ],
      "text/plain": [
       "      index           time    close0 itvl                datetime   close1  \\\n",
       "2000   2000  1672891379999  16826.60   3m 2023-01-05 04:02:59.999  1253.25   \n",
       "2100   2100  1672909379999  16805.39   3m 2023-01-05 09:02:59.999  1249.80   \n",
       "2200   2200  1672927379999  16777.06   3m 2023-01-05 14:02:59.999  1247.16   \n",
       "2300   2300  1672945379999  16844.09   3m 2023-01-05 19:02:59.999  1251.55   \n",
       "2400   2400  1672963379999  16829.52   3m 2023-01-06 00:02:59.999  1250.87   \n",
       "2500   2500  1672981379999  16818.06   3m 2023-01-06 05:02:59.999  1249.54   \n",
       "2600   2600  1672999379999  16785.82   3m 2023-01-06 10:02:59.999  1248.08   \n",
       "2700   2700  1673017379999  16775.41   3m 2023-01-06 15:02:59.999  1250.70   \n",
       "2800   2800  1673035379999  16963.32   3m 2023-01-06 20:02:59.999  1273.39   \n",
       "2900   2900  1673053379999  16979.80   3m 2023-01-07 01:02:59.999  1270.90   \n",
       "\n",
       "         spread    zscore  \n",
       "2000 -22.681038 -0.446050  \n",
       "2100 -26.840315 -0.619306  \n",
       "2200 -40.056583 -1.219891  \n",
       "2300   8.160032  1.290822  \n",
       "2400  -4.148572  0.482245  \n",
       "2500  -6.927411  0.202757  \n",
       "2600 -21.412092 -0.610330  \n",
       "2700 -42.401863 -1.672495  \n",
       "2800  42.149267  2.521667  \n",
       "2900  45.184720  2.021860  "
      ]
     },
     "execution_count": 4,
     "metadata": {},
     "output_type": "execute_result"
    }
   ],
   "source": [
    "df.iloc[2000:3000:100]"
   ]
  },
  {
   "cell_type": "code",
   "execution_count": 5,
   "metadata": {},
   "outputs": [
    {
     "data": {
      "image/png": "[encoded data removed]",
      "text/plain": [
       "<Figure size 640x480 with 2 Axes>"
      ]
     },
     "metadata": {},
     "output_type": "display_data"
    }
   ],
   "source": [
    "import matplotlib.pyplot as plt\n",
    "\n",
    "fig, (ax1, ax2) = plt.subplots(2, 1, sharex=True)\n",
    "\n",
    "ax1.plot(df['datetime'], df['spread'], label='spread')\n",
    "ax2.plot(df['datetime'], df['zscore'], label='zscore')\n",
    "\n",
    "ax1.legend()\n",
    "ax2.legend()\n",
    "plt.suptitle(f'The Spread between {symbols[0]} and {symbols[1]}')\n",
    "\n",
    "plt.xticks(rotation=45)\n",
    "plt.show()"
   ]
  },
  {
   "cell_type": "code",
   "execution_count": 26,
   "metadata": {},
   "outputs": [
    {
     "name": "stderr",
     "output_type": "stream",
     "text": [
      "100%|██████████| 160293/160293 [00:11<00:00, 13779.87it/s]"
     ]
    },
    {
     "name": "stdout",
     "output_type": "stream",
     "text": [
      "networth: 14231.322928639473\n"
     ]
    },
    {
     "name": "stderr",
     "output_type": "stream",
     "text": [
      "\n"
     ]
    }
   ],
   "source": [
    "from tqdm import trange\n",
    "\n",
    "cash = 10000\n",
    "position, holdings = 0, [0, 0]\n",
    "open_thre, clos_thre = 2, 0.1\n",
    "tc = 0.001\n",
    "next_pos = 0\n",
    "\n",
    "for i in trange(len(df)):\n",
    "    price0 = df.iloc[i]['close0']\n",
    "    price1 = df.iloc[i]['close1']\n",
    "    max_unit0 = cash/price0\n",
    "    max_unit1 = cash/price1\n",
    "\n",
    "    if position==0 and df.iloc[i]['zscore']>=open_thre:\n",
    "        holdings = [max_unit0*(1-tc), -max_unit1*(1-tc)]\n",
    "        next_pos = -1\n",
    "    elif position==0 and df.iloc[i]['zscore']<=-open_thre:\n",
    "        holdings = [-max_unit0*(1-tc), max_unit1*(1-tc)]\n",
    "        next_pos = 1\n",
    "    elif position==-1 and df.iloc[i]['zscore']<=clos_thre:\n",
    "        cash += (holdings[0] * price0 + holdings[1] * price1) * (1-tc)\n",
    "        holdings = [0, 0]\n",
    "        next_pos = 0\n",
    "    elif position==1 and df.iloc[i]['zscore']>=-clos_thre:\n",
    "        cash += (holdings[0] * price0 + holdings[1] * price1) * (1-tc)\n",
    "        holdings = [0, 0]\n",
    "        next_pos = 0\n",
    "\n",
    "    position = next_pos\n",
    "\n",
    "networth = cash + holdings[0] * price0 + holdings[1] * price1\n",
    "print(f\"networth: {networth}\")"
   ]
  },
  {
   "cell_type": "markdown",
   "metadata": {},
   "source": []
  }
 ],
 "metadata": {
  "kernelspec": {
   "display_name": "okx",
   "language": "python",
   "name": "python3"
  },
  "language_info": {
   "codemirror_mode": {
    "name": "ipython",
    "version": 3
   },
   "file_extension": ".py",
   "mimetype": "text/x-python",
   "name": "python",
   "nbconvert_exporter": "python",
   "pygments_lexer": "ipython3",
   "version": "3.12.0"
  }
 },
 "nbformat": 4,
 "nbformat_minor": 2
}
