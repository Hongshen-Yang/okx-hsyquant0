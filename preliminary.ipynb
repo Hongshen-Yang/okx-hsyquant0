{
 "cells": [
  {
   "cell_type": "markdown",
   "metadata": {},
   "source": [
    "# Preliminary\n",
    "\n",
    "The purpose of preliminaries is to use historical data to detect a profitable pattern"
   ]
  },
  {
   "cell_type": "code",
   "execution_count": null,
   "metadata": {},
   "outputs": [],
   "source": [
    "import pandas as pd\n",
    "from tqdm import trange\n",
    "from utils.read2df import read2df, unify_dfs\n",
    "\n",
    "symbols = ['BTCUSDT', 'ETHUSDT']\n",
    "freqs = {'3m': 3}\n",
    "period = 1000\n",
    "\n",
    "date_format = '%Y-%m-%d'\n",
    "start_date = '2023-01-01'\n",
    "end_date = '2023-12-31'"
   ]
  },
  {
   "cell_type": "code",
   "execution_count": null,
   "metadata": {},
   "outputs": [],
   "source": [
    "%%capture\n",
    "if symbols is None:\n",
    "    !python binance-public-data/python/download-kline.py \\\n",
    "        -i {\" \".join(list(freqs.keys()))} -startDate {start_date} -endDate {end_date} -t spot -skip-daily 1\n",
    "else:\n",
    "    !python binance-public-data/python/download-kline.py \\\n",
    "        -s {\" \".join(symbols)} -i {\" \".join(list(freqs.keys()))} -startDate {start_date} -t spot -skip-daily 1"
   ]
  },
  {
   "cell_type": "code",
   "execution_count": null,
   "metadata": {},
   "outputs": [],
   "source": [
    "dfs = read2df(symbols=symbols, freqs=freqs, marketType='spot')\n",
    "tics, df = unify_dfs(dfs, symbols=symbols, period=period)"
   ]
  },
  {
   "cell_type": "code",
   "execution_count": null,
   "metadata": {},
   "outputs": [],
   "source": [
    "df.iloc[2000:3000:100]"
   ]
  },
  {
   "cell_type": "code",
   "execution_count": null,
   "metadata": {},
   "outputs": [],
   "source": [
    "import matplotlib.pyplot as plt\n",
    "\n",
    "fig, (ax1, ax2) = plt.subplots(2, 1, sharex=True)\n",
    "\n",
    "ax1.plot(df['datetime'], df['spread'], label='spread')\n",
    "ax2.plot(df['datetime'], df['zscore'], label='zscore')\n",
    "\n",
    "ax1.legend()\n",
    "ax2.legend()\n",
    "plt.suptitle(f'The Spread between {symbols[0]} and {symbols[1]}')\n",
    "\n",
    "plt.xticks(rotation=45)\n",
    "plt.show()"
   ]
  },
  {
   "cell_type": "code",
   "execution_count": null,
   "metadata": {},
   "outputs": [],
   "source": [
    "cash = 10000\n",
    "position, holdings = 0, [0, 0]\n",
    "open_thre, clos_thre = 2, 0.1\n",
    "tc = 0.0005\n",
    "next_pos = 0\n",
    "\n",
    "for i in trange(len(df)):\n",
    "    price0 = df.iloc[i]['close0']\n",
    "    price1 = df.iloc[i]['close1']\n",
    "    max_unit0 = cash/price0\n",
    "    max_unit1 = cash/price1\n",
    "\n",
    "    if position==0 and df.iloc[i]['zscore']>=open_thre:\n",
    "        holdings = [max_unit0*(1-tc), -max_unit1*(1-tc)]\n",
    "        next_pos = -1\n",
    "    elif position==0 and df.iloc[i]['zscore']<=-open_thre:\n",
    "        holdings = [-max_unit0*(1-tc), max_unit1*(1-tc)]\n",
    "        next_pos = 1\n",
    "    elif position==-1 and df.iloc[i]['zscore']<=clos_thre:\n",
    "        cash += (holdings[0] * price0 + holdings[1] * price1) * (1-tc)\n",
    "        holdings = [0, 0]\n",
    "        next_pos = 0\n",
    "    elif position==1 and df.iloc[i]['zscore']>=-clos_thre:\n",
    "        cash += (holdings[0] * price0 + holdings[1] * price1) * (1-tc)\n",
    "        holdings = [0, 0]\n",
    "        next_pos = 0\n",
    "\n",
    "    position = next_pos\n",
    "\n",
    "networth = cash + holdings[0] * price0 + holdings[1] * price1\n",
    "print(f\"networth: {networth}\")"
   ]
  },
  {
   "cell_type": "markdown",
   "metadata": {},
   "source": []
  }
 ],
 "metadata": {
  "kernelspec": {
   "display_name": "okx",
   "language": "python",
   "name": "python3"
  },
  "language_info": {
   "codemirror_mode": {
    "name": "ipython",
    "version": 3
   },
   "file_extension": ".py",
   "mimetype": "text/x-python",
   "name": "python",
   "nbconvert_exporter": "python",
   "pygments_lexer": "ipython3",
   "version": "3.12.1"
  }
 },
 "nbformat": 4,
 "nbformat_minor": 2
}
