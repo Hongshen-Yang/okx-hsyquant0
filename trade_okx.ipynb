{
 "cells": [
  {
   "cell_type": "markdown",
   "metadata": {},
   "source": [
    "OKX-hsyquant0 Trading Bot\n",
    "\n",
    "[OKX API Documentation](https://www.okx.com/docs-v5/en/#overview)"
   ]
  },
  {
   "cell_type": "code",
   "execution_count": 1,
   "metadata": {},
   "outputs": [],
   "source": [
    "'''\n",
    "{\n",
    "    \"apikey\": \"xxxxxxxxxx\",\n",
    "    \"Purpose\": \"API trading\",\n",
    "    \"API name\": \"pairtrading-thres\",\n",
    "    \"IP\": \"\",\n",
    "    \"Permissions\": \"Read/Trade\",\n",
    "    \"secretkey\": \"xxxxxxxxxx\",\n",
    "    \"passphrase\": \"xxxxxxxxxx\"\n",
    "}\n",
    "'''\n",
    "\n",
    "import json\n",
    "import time\n",
    "import math\n",
    "import logging\n",
    "import sqlite3\n",
    "import schedule\n",
    "import threading\n",
    "import pandas as pd\n",
    "import numpy as np\n",
    "import okx.Account as Account\n",
    "import okx.Trade as Trade\n",
    "import okx.MarketData as MarketData\n",
    "\n",
    "logging.getLogger(\"requests\").setLevel(logging.ERROR)\n",
    "logging.getLogger(\"urllib3\").setLevel(logging.ERROR)\n",
    "\n",
    "from sklearn.linear_model import LinearRegression\n",
    "\n",
    "f_apikeys = 'apikeys.json'\n",
    "apikeys = json.load(open(f_apikeys))\n",
    "\n",
    "flag = \"0\" # live trading:0 , demo trading：1\n",
    "api_key = apikeys['apikey']\n",
    "secret_key = apikeys['secretkey']\n",
    "passphrase = apikeys['passphrase']\n",
    "\n",
    "accountAPI = Account.AccountAPI(api_key, secret_key, passphrase, False, flag)\n",
    "tradeAPI = Trade.TradeAPI(api_key, secret_key, passphrase, False, flag)\n",
    "marketDataAPI = MarketData.MarketAPI(flag=flag)\n",
    "\n",
    "PERIOD = 20\n",
    "OPEN_THRE, CLOS_THRE = 2, 0.1\n",
    "START_TIME = int(time.time() * 1000)"
   ]
  },
  {
   "cell_type": "markdown",
   "metadata": {},
   "source": [
    "# Trading Account Prep"
   ]
  },
  {
   "cell_type": "code",
   "execution_count": null,
   "metadata": {},
   "outputs": [],
   "source": [
    "accountAPI.set_position_mode(\n",
    "    posMode=\"long_short_mode\"\n",
    ")\n",
    "\n",
    "accountAPI.set_leverage(\n",
    "    instId = \"BTC-USDT-SWAP\",\n",
    "    lever = \"5\",\n",
    "    mgnMode = \"cross\"\n",
    ")\n",
    "\n",
    "accountAPI.set_leverage(\n",
    "    instId = \"ETH-USDT-SWAP\",\n",
    "    lever = \"5\",\n",
    "    mgnMode = \"cross\"\n",
    ")"
   ]
  },
  {
   "cell_type": "markdown",
   "metadata": {},
   "source": [
    "## Check the balance"
   ]
  },
  {
   "cell_type": "code",
   "execution_count": null,
   "metadata": {},
   "outputs": [],
   "source": [
    "result = accountAPI.get_account_balance()\n",
    "# print(json.dumps(result['data'], indent=2))\n",
    "\n",
    "disEq=0\n",
    "for curr in result['data'][0]['details']:\n",
    "    disEq += float(curr['disEq'])\n",
    "    if curr['ccy'] == 'USDT':\n",
    "        usdBal = float(curr['cashBal'])\n",
    "    print(f\"ccy: {curr['ccy']}\")\n",
    "\n",
    "print(f\"Total Value in USD: {disEq}\")"
   ]
  },
  {
   "cell_type": "markdown",
   "metadata": {},
   "source": [
    "# Database Prep"
   ]
  },
  {
   "cell_type": "code",
   "execution_count": null,
   "metadata": {},
   "outputs": [],
   "source": [
    "class OKXQUANT:\n",
    "    def __init__(self):\n",
    "        con = sqlite3.connect(\"hsyquant0.db\")\n",
    "        cur = con.cursor()\n",
    "\n",
    "        cur.execute(\"DROP TABLE IF EXISTS market\")\n",
    "        cur.execute(\"CREATE TABLE IF NOT EXISTS market(datetime INTEGER, price0 REAL, price1 REAL, spread REAL, zscore REAL)\")\n",
    "        cur.execute(\"DELETE FROM market\")\n",
    "\n",
    "        con.commit()\n",
    "        con.close()\n",
    "\n",
    "    def _cancel_orders(self):\n",
    "        orders = tradeAPI.get_order_list()['data']\n",
    "        for order in orders:\n",
    "            tradeAPI.cancel_order(order['instId'], ordId=order['ordId'])\n",
    "\n",
    "    def _open_position(self, posSide, price, sz):\n",
    "            tradeAPI.place_multiple_orders([\n",
    "                {\n",
    "                    \"instId\": \"BTC-USDT-SWAP\",\n",
    "                    \"tdMode\": \"cross\",\n",
    "                    \"side\": \"buy\" if posSide==1 else \"sell\",\n",
    "                    \"posSide\": \"long\" if posSide==1 else \"short\",\n",
    "                    \"ordType\": \"limit\",\n",
    "                    \"px\": price[0],\n",
    "                    \"sz\": math.floor(sz[0]) # The BTC lot size is 0.01, so `sz` 5 means 0.05 BTC\n",
    "                },\n",
    "                {   \n",
    "                    \"instId\": \"ETH-USDT-SWAP\",\n",
    "                    \"tdMode\": \"cross\",\n",
    "                    \"side\": \"sell\" if posSide==1 else \"buy\",\n",
    "                    \"posSide\": \"short\" if posSide==1 else \"long\",\n",
    "                    \"ordType\": \"limit\",\n",
    "                    \"px\": price[1],\n",
    "                    \"sz\": math.floor(sz[1]) # The ETH lot size is 0.1, so `sz` 2 means 0.2 ETH\n",
    "                }\n",
    "            ])\n",
    "\n",
    "    def _close_positions(self):\n",
    "        positions = accountAPI.get_positions(instId=\"BTC-USDT-SWAP,ETH-USDT-SWAP\")['data']\n",
    "        for pos in positions:\n",
    "            tradeAPI.close_positions(instId=pos['instId'], mgnMode='cross', posSide=pos['posSide'])\n",
    "\n",
    "    def _get_position(self):\n",
    "        positions = accountAPI.get_positions(instId=\"BTC-USDT-SWAP,ETH-USDT-SWAP\")['data']\n",
    "        \n",
    "        pos0, pos1 = 'None', 'None'\n",
    "        for pos in positions:\n",
    "            if pos['instId'] == 'BTC-USDT-SWAP' and pos['pos'] != '0' :\n",
    "                pos0 = pos['posSide']\n",
    "            if pos['instId'] == 'ETH-USDT-SWAP' and pos['pos'] != '0':\n",
    "                pos1 = pos['posSide']\n",
    "        if pos0=='None' and pos1=='None':\n",
    "            position=0\n",
    "        elif pos0=='short' and pos1=='long':\n",
    "            position=-1\n",
    "        elif pos0=='long' and pos1=='short':\n",
    "            position=1\n",
    "        else:\n",
    "            self._close_positions()\n",
    "            position=0\n",
    "        \n",
    "        return position\n",
    "\n",
    "    def _trade(self, zscore, price0, price1):\n",
    "        self._cancel_orders() # cancel all orders\n",
    "        position = self._get_position()\n",
    "\n",
    "        if position==0 and zscore>=OPEN_THRE:\n",
    "            cash = accountAPI.get_account_balance(ccy='USDT')['data'][0]['details'][0]['availBal']\n",
    "            max_unit0, max_unit1 = float(cash)/price0/0.01, float(cash)/price1/0.1\n",
    "            self._open_position(1, [price0, price1], [max_unit0, max_unit1])\n",
    "        elif position==0 and zscore<=-OPEN_THRE:\n",
    "            cash = accountAPI.get_account_balance(ccy='USDT')['data'][0]['details'][0]['availBal']\n",
    "            max_unit0, max_unit1 = int(float(cash)/price0/0.01), int(float(cash)/price1/0.1)\n",
    "            self._open_position(-1, [price0, price1], [max_unit0, max_unit1])\n",
    "        elif position==1 and zscore<=CLOS_THRE:\n",
    "            self._close_positions()\n",
    "        elif position==-1 and zscore>=-CLOS_THRE:\n",
    "            self._close_positions()\n",
    "\n",
    "    def _get_spread(self, con, price0, price1):\n",
    "        df = pd.read_sql_query(\"SELECT datetime, price0, price1, spread, zscore FROM market ORDER BY datetime DESC LIMIT 1000\", con)\n",
    "        \n",
    "        if len(df)>PERIOD:\n",
    "            reg = LinearRegression().fit(np.array(df['price1'], dtype='float').reshape(-1, 1), df['price0'])\n",
    "            pred0 = reg.predict(np.array(price1, dtype='float').reshape(-1, 1))\n",
    "            spread = price0-pred0[0]\n",
    "            std = df['spread'].std()\n",
    "            zscore = (spread-df['spread'].mean())/std if std!=0 else 0\n",
    "        else:\n",
    "            spread, zscore = 0, 0\n",
    "        return spread, zscore\n",
    "\n",
    "    def _market_writer(self):\n",
    "        con = sqlite3.connect('hsyquant0.db')\n",
    "        cur = con.cursor()\n",
    "\n",
    "        tickers = marketDataAPI.get_tickers(instType=\"SWAP\")\n",
    "        for inst in tickers['data']:\n",
    "            if inst['instId']=='BTC-USDT-SWAP':\n",
    "                unixtime = int(inst['ts']) \n",
    "                price0 = float(inst['last'])\n",
    "            if inst['instId']=='ETH-USDT-SWAP':\n",
    "                price1 = float(inst['last'])\n",
    "                \n",
    "        spread, zscore = self._get_spread(con, price0, price1)\n",
    "        cur.execute(\"INSERT INTO market (datetime, price0, price1, spread, zscore) VALUES (?, ?, ?, ?, ?)\", (unixtime, price0, price1, spread, zscore))\n",
    "        self._trade(zscore, price0, price1)\n",
    "        \n",
    "        con.commit()\n",
    "        cur.close()\n",
    "        con.close()\n",
    "    \n",
    "    def _scheduling(self):\n",
    "        schedule.every(3).minutes.do(self._market_writer)\n",
    "        while True:\n",
    "            schedule.run_pending()\n",
    "            time.sleep(1)\n",
    "\n",
    "    def thread_start(self):\n",
    "        self.writer = threading.Thread(target=self._scheduling, daemon=True)\n",
    "        self.writer.start()"
   ]
  },
  {
   "cell_type": "code",
   "execution_count": null,
   "metadata": {},
   "outputs": [],
   "source": [
    "quant = OKXQUANT()\n",
    "quant.thread_start()"
   ]
  },
  {
   "cell_type": "markdown",
   "metadata": {},
   "source": [
    "# Check DB\n",
    "[get_positions_history](https://www.okx.com/docs-v5/en/#trading-account-rest-api-get-positions-history)"
   ]
  },
  {
   "cell_type": "code",
   "execution_count": null,
   "metadata": {},
   "outputs": [],
   "source": [
    "conn = sqlite3.connect(\"hsyquant0.db\")\n",
    "cur = conn.cursor()\n",
    "\n",
    "df_market = pd.read_sql_query(\"SELECT datetime, price0, price1, spread, zscore FROM market ORDER BY datetime DESC LIMIT 1000\", conn)\n",
    "\n",
    "conn.commit()\n",
    "conn.close()\n",
    "\n",
    "print(df_market)"
   ]
  },
  {
   "cell_type": "code",
   "execution_count": 3,
   "metadata": {},
   "outputs": [
    {
     "name": "stdout",
     "output_type": "stream",
     "text": [
      "body:  \n",
      "header:  {'Content-Type': 'application/json', 'OK-ACCESS-KEY': '47947c28-9e11-475e-9f51-624f7e333e90', 'OK-ACCESS-SIGN': b'5x3r8vcIhtUvc2pX+YUC1XKIWpGZNdE2f5I+tllBmxQ=', 'OK-ACCESS-TIMESTAMP': '2024-01-13T22:19:47.216Z', 'OK-ACCESS-PASSPHRASE': 'zyzzit-zEjqur-jijwo8', 'x-simulated-trading': '0'}\n",
      "domain: https://www.okx.com\n",
      "url: /api/v5/account/positions-history?after=1705184334844\n"
     ]
    }
   ],
   "source": [
    "positions_history = accountAPI.get_positions_history(after=START_TIME)['data']\n",
    "df_positions_history = pd.DataFrame(positions_history)\n",
    "df_positions_history[df_positions_history['cTime'].astype(float)>START_TIME]"
   ]
  },
  {
   "cell_type": "code",
   "execution_count": null,
   "metadata": {},
   "outputs": [],
   "source": []
  }
 ],
 "metadata": {
  "kernelspec": {
   "display_name": "Python 3 (ipykernel)",
   "language": "python",
   "name": "python3"
  },
  "language_info": {
   "codemirror_mode": {
    "name": "ipython",
    "version": 3
   },
   "file_extension": ".py",
   "mimetype": "text/x-python",
   "name": "python",
   "nbconvert_exporter": "python",
   "pygments_lexer": "ipython3",
   "version": "3.12.1"
  }
 },
 "nbformat": 4,
 "nbformat_minor": 4
}
