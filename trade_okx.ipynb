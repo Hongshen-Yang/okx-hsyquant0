{
 "cells": [
  {
   "cell_type": "markdown",
   "metadata": {},
   "source": [
    "OKX-hsyquant0 Trading Bot\n",
    "\n",
    "[OKX API Documentation](https://www.okx.com/docs-v5/en/#overview)"
   ]
  },
  {
   "cell_type": "code",
   "execution_count": 4,
   "metadata": {},
   "outputs": [],
   "source": [
    "import json\n",
    "\n",
    "f_apikeys = 'apikeys.json'\n",
    "apikeys = json.load(open(f_apikeys))"
   ]
  },
  {
   "cell_type": "code",
   "execution_count": 14,
   "metadata": {},
   "outputs": [],
   "source": [
    "flag = \"0\" # live trading:0 , demo trading：1\n",
    "api_key = apikeys['apikey']\n",
    "secret_key = apikeys['secretkey']\n",
    "passphrase = apikeys['passphrase']"
   ]
  },
  {
   "cell_type": "markdown",
   "metadata": {},
   "source": [
    "# Check the balance"
   ]
  },
  {
   "cell_type": "code",
   "execution_count": 18,
   "metadata": {},
   "outputs": [
    {
     "name": "stdout",
     "output_type": "stream",
     "text": [
      "body:  \n",
      "header:  {'Content-Type': 'application/json', 'OK-ACCESS-KEY': '47947c28-9e11-475e-9f51-624f7e333e90', 'OK-ACCESS-SIGN': b'eYLY5IPg7KjaexWwgTnvVG6s+lGObMcwUsWHaIdT/Pw=', 'OK-ACCESS-TIMESTAMP': '2024-01-10T02:18:27.486Z', 'OK-ACCESS-PASSPHRASE': 'zyzzit-zEjqur-jijwo8', 'x-simulated-trading': '0'}\n",
      "domain: https://www.okx.com\n",
      "url: /api/v5/account/balance\n",
      "{\n",
      "  \"code\": \"0\",\n",
      "  \"data\": [\n",
      "    {\n",
      "      \"adjEq\": \"\",\n",
      "      \"borrowFroz\": \"\",\n",
      "      \"details\": [\n",
      "        {\n",
      "          \"availBal\": \"2000\",\n",
      "          \"availEq\": \"2000\",\n",
      "          \"borrowFroz\": \"\",\n",
      "          \"cashBal\": \"2000\",\n",
      "          \"ccy\": \"USDT\",\n",
      "          \"crossLiab\": \"\",\n",
      "          \"disEq\": \"2000.48\",\n",
      "          \"eq\": \"2000\",\n",
      "          \"eqUsd\": \"2000.48\",\n",
      "          \"fixedBal\": \"0\",\n",
      "          \"frozenBal\": \"0\",\n",
      "          \"interest\": \"\",\n",
      "          \"isoEq\": \"0\",\n",
      "          \"isoLiab\": \"\",\n",
      "          \"isoUpl\": \"0\",\n",
      "          \"liab\": \"\",\n",
      "          \"maxLoan\": \"\",\n",
      "          \"mgnRatio\": \"\",\n",
      "          \"notionalLever\": \"0\",\n",
      "          \"ordFrozen\": \"0\",\n",
      "          \"spotInUseAmt\": \"\",\n",
      "          \"spotIsoBal\": \"0\",\n",
      "          \"stgyEq\": \"0\",\n",
      "          \"twap\": \"0\",\n",
      "          \"uTime\": \"1703276393676\",\n",
      "          \"upl\": \"0\",\n",
      "          \"uplLiab\": \"\"\n",
      "        }\n",
      "      ],\n",
      "      \"imr\": \"\",\n",
      "      \"isoEq\": \"0\",\n",
      "      \"mgnRatio\": \"\",\n",
      "      \"mmr\": \"\",\n",
      "      \"notionalUsd\": \"\",\n",
      "      \"ordFroz\": \"\",\n",
      "      \"totalEq\": \"2000.48\",\n",
      "      \"uTime\": \"1704853107734\"\n",
      "    }\n",
      "  ],\n",
      "  \"msg\": \"\"\n",
      "}\n"
     ]
    }
   ],
   "source": [
    "import okx.Account as Account\n",
    "\n",
    "accountAPI = Account.AccountAPI(api_key, secret_key, passphrase, False, flag)\n",
    "\n",
    "result = accountAPI.get_account_balance()\n",
    "print(json.dumps(result, indent=2))"
   ]
  },
  {
   "cell_type": "markdown",
   "metadata": {},
   "source": [
    "# Check Tradeable Pairs"
   ]
  },
  {
   "cell_type": "code",
   "execution_count": 26,
   "metadata": {},
   "outputs": [
    {
     "name": "stdout",
     "output_type": "stream",
     "text": [
      "header:  {'Content-Type': 'application/json', 'x-simulated-trading': '0'}\n",
      "domain: https://www.okx.com\n",
      "url: /api/v5/public/instruments?instType=FUTURES\n"
     ]
    },
    {
     "data": {
      "text/plain": [
       "'\\nThe pairs we will be trading is\\nBTC-USDT and ETH-USDT\\n'"
      ]
     },
     "execution_count": 26,
     "metadata": {},
     "output_type": "execute_result"
    }
   ],
   "source": [
    "import okx.PublicData as PublicData\n",
    "\n",
    "publicDataAPI = PublicData.PublicAPI(flag = flag)\n",
    "\n",
    "result = publicDataAPI.get_instruments(instType = \"FUTURES\")\n",
    "# print(json.dumps(result, indent=2))\n",
    "\n",
    "'''\n",
    "The pairs we will be trading is\n",
    "BTC-USDT and ETH-USDT\n",
    "'''"
   ]
  },
  {
   "cell_type": "code",
   "execution_count": 25,
   "metadata": {},
   "outputs": [
    {
     "name": "stdout",
     "output_type": "stream",
     "text": [
      "body:  {\"posMode\": \"long_short_mode\"}\n",
      "header:  {'Content-Type': 'application/json', 'OK-ACCESS-KEY': '47947c28-9e11-475e-9f51-624f7e333e90', 'OK-ACCESS-SIGN': b'k2kEuOd+RQ3H8tCRfljmVALxK6dqNvdnhHUZ4ahvDmA=', 'OK-ACCESS-TIMESTAMP': '2024-01-10T06:01:11.604Z', 'OK-ACCESS-PASSPHRASE': 'zyzzit-zEjqur-jijwo8', 'x-simulated-trading': '0'}\n",
      "domain: https://www.okx.com\n",
      "url: /api/v5/account/set-position-mode\n",
      "{\n",
      "  \"code\": \"0\",\n",
      "  \"data\": [\n",
      "    {\n",
      "      \"posMode\": \"long_short_mode\"\n",
      "    }\n",
      "  ],\n",
      "  \"msg\": \"\"\n",
      "}\n"
     ]
    }
   ],
   "source": [
    "import okx.Trade as Trade\n",
    "\n",
    "tradeAPI = Trade.TradeAPI(api_key, secret_key, passphrase, False, flag)\n",
    "\n",
    "result = accountAPI.set_position_mode(\n",
    "    posMode=\"long_short_mode\"\n",
    ")\n",
    "\n",
    "print(json.dumps(result, indent=2))"
   ]
  },
  {
   "cell_type": "code",
   "execution_count": 28,
   "metadata": {},
   "outputs": [
    {
     "name": "stdout",
     "output_type": "stream",
     "text": [
      "body:  {\"instId\": \"BTC-USDT\", \"tdMode\": \"cash\", \"side\": \"buy\", \"ordType\": \"limit\", \"sz\": \"0.001\", \"ccy\": \"\", \"clOrdId\": \"\", \"tag\": \"\", \"posSide\": \"net\", \"px\": \"10\", \"reduceOnly\": \"\", \"tgtCcy\": \"\", \"tpTriggerPx\": \"\", \"tpOrdPx\": \"\", \"slTriggerPx\": \"\", \"slOrdPx\": \"\", \"tpTriggerPxType\": \"\", \"slTriggerPxType\": \"\", \"quickMgnType\": \"\", \"stpId\": \"\", \"stpMode\": \"\"}\n",
      "header:  {'Content-Type': 'application/json', 'OK-ACCESS-KEY': '47947c28-9e11-475e-9f51-624f7e333e90', 'OK-ACCESS-SIGN': b'n7WPx2hQ3x0OjPsYGK3hfg7zoi5fe/L54OfyEp/ml2o=', 'OK-ACCESS-TIMESTAMP': '2024-01-10T06:23:45.171Z', 'OK-ACCESS-PASSPHRASE': 'zyzzit-zEjqur-jijwo8', 'x-simulated-trading': '0'}\n",
      "domain: https://www.okx.com\n",
      "url: /api/v5/trade/order\n",
      "{'code': '0', 'data': [{'clOrdId': '', 'ordId': '665199105089871876', 'sCode': '0', 'sMsg': 'Order placed', 'tag': ''}], 'inTime': '1704867825455534', 'msg': '', 'outTime': '1704867825457781'}\n",
      "Successful order request，order_id =  665199105089871876\n"
     ]
    }
   ],
   "source": [
    "# limit order\n",
    "result = tradeAPI.place_order(\n",
    "    instId=\"BTC-USDT\",\n",
    "    tdMode=\"cash\",\n",
    "    side=\"buy\",\n",
    "    posSide=\"net\",\n",
    "    ordType=\"limit\",\n",
    "    px=\"10\",\n",
    "    sz=\"0.001\"\n",
    ")\n",
    "print(result)\n",
    "\n",
    "if result[\"code\"] == \"0\":\n",
    "    print(\"Successful order request，order_id = \",result[\"data\"][0][\"ordId\"])\n",
    "else:\n",
    "    print(\"Unsuccessful order request，error_code = \",result[\"data\"][0][\"sCode\"], \", Error_message = \", result[\"data\"][0][\"sMsg\"])"
   ]
  },
  {
   "cell_type": "code",
   "execution_count": null,
   "metadata": {},
   "outputs": [],
   "source": []
  }
 ],
 "metadata": {
  "kernelspec": {
   "display_name": "okx",
   "language": "python",
   "name": "python3"
  },
  "language_info": {
   "codemirror_mode": {
    "name": "ipython",
    "version": 3
   },
   "file_extension": ".py",
   "mimetype": "text/x-python",
   "name": "python",
   "nbconvert_exporter": "python",
   "pygments_lexer": "ipython3",
   "version": "3.12.1"
  }
 },
 "nbformat": 4,
 "nbformat_minor": 2
}
