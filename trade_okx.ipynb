{
 "cells": [
  {
   "cell_type": "markdown",
   "metadata": {},
   "source": [
    "OKX-hsyquant0 Trading Bot\n",
    "\n",
    "[OKX API Documentation](https://www.okx.com/docs-v5/en/#overview)"
   ]
  },
  {
   "cell_type": "code",
   "execution_count": 1,
   "metadata": {},
   "outputs": [],
   "source": [
    "import json\n",
    "import okx.Account as Account\n",
    "import okx.Trade as Trade\n",
    "\n",
    "f_apikeys = 'apikeys.json'\n",
    "apikeys = json.load(open(f_apikeys))\n",
    "\n",
    "flag = \"0\" # live trading:0 , demo trading：1\n",
    "api_key = apikeys['apikey']\n",
    "secret_key = apikeys['secretkey']\n",
    "passphrase = apikeys['passphrase']\n",
    "\n",
    "accountAPI = Account.AccountAPI(api_key, secret_key, passphrase, False, flag)\n",
    "tradeAPI = Trade.TradeAPI(api_key, secret_key, passphrase, False, flag)"
   ]
  },
  {
   "cell_type": "markdown",
   "metadata": {},
   "source": [
    "Set Position Mode"
   ]
  },
  {
   "cell_type": "code",
   "execution_count": null,
   "metadata": {},
   "outputs": [],
   "source": [
    "accountAPI.set_position_mode(\n",
    "    posMode=\"long_short_mode\"\n",
    ")\n",
    "\n",
    "accountAPI.set_leverage(\n",
    "    instId = \"BTC-USDT-SWAP\",\n",
    "    lever = \"5\",\n",
    "    mgnMode = \"cross\"\n",
    ")\n",
    "\n",
    "accountAPI.set_leverage(\n",
    "    instId = \"ETH-USDT-SWAP\",\n",
    "    lever = \"5\",\n",
    "    mgnMode = \"cross\"\n",
    ")"
   ]
  },
  {
   "cell_type": "markdown",
   "metadata": {},
   "source": [
    "# Check the balance"
   ]
  },
  {
   "cell_type": "code",
   "execution_count": 35,
   "metadata": {},
   "outputs": [
    {
     "name": "stdout",
     "output_type": "stream",
     "text": [
      "body:  \n",
      "header:  {'Content-Type': 'application/json', 'OK-ACCESS-KEY': '47947c28-9e11-475e-9f51-624f7e333e90', 'OK-ACCESS-SIGN': b'pdKasMCyfgulo6sEVvknHc+NE+smZMxCfuUgVMpg37k=', 'OK-ACCESS-TIMESTAMP': '2024-01-11T03:52:27.646Z', 'OK-ACCESS-PASSPHRASE': 'zyzzit-zEjqur-jijwo8', 'x-simulated-trading': '0'}\n",
      "domain: https://www.okx.com\n",
      "url: /api/v5/account/balance\n",
      "ccy: USDT, cashBal: 2000\n",
      "Total Value in USD: 2000.5799999999997\n"
     ]
    }
   ],
   "source": [
    "result = accountAPI.get_account_balance()\n",
    "# print(json.dumps(result['data'], indent=2))\n",
    "\n",
    "disEq=0\n",
    "for curr in result['data'][0]['details']:\n",
    "    disEq += float(curr['disEq'])\n",
    "    print(f\"ccy: {curr['ccy']}, cashBal: {curr['cashBal']}\")\n",
    "\n",
    "print(f\"Total Value in USD: {disEq}\")"
   ]
  },
  {
   "cell_type": "markdown",
   "metadata": {},
   "source": [
    "# Make an order"
   ]
  },
  {
   "cell_type": "code",
   "execution_count": 20,
   "metadata": {},
   "outputs": [
    {
     "name": "stdout",
     "output_type": "stream",
     "text": [
      "body:  [{\"instId\": \"BTC-USDT-SWAP\", \"tdMode\": \"cross\", \"side\": \"buy\", \"posSide\": \"long\", \"ordType\": \"limit\", \"px\": \"10\", \"sz\": \"1\"}, {\"instId\": \"ETH-USDT-SWAP\", \"tdMode\": \"cross\", \"side\": \"sell\", \"posSide\": \"short\", \"ordType\": \"limit\", \"px\": \"10000\", \"sz\": \"1\"}]\n",
      "header:  {'Content-Type': 'application/json', 'OK-ACCESS-KEY': '47947c28-9e11-475e-9f51-624f7e333e90', 'OK-ACCESS-SIGN': b'WbvuQDjOFgotATX21Pb7DOZw5k8FHv9rZxqm0F4oFWo=', 'OK-ACCESS-TIMESTAMP': '2024-01-11T03:00:33.563Z', 'OK-ACCESS-PASSPHRASE': 'zyzzit-zEjqur-jijwo8', 'x-simulated-trading': '0'}\n",
      "domain: https://www.okx.com\n",
      "url: /api/v5/trade/batch-orders\n"
     ]
    },
    {
     "data": {
      "text/plain": [
       "{'code': '0',\n",
       " 'data': [{'clOrdId': '',\n",
       "   'ordId': '665510357548797957',\n",
       "   'sCode': '0',\n",
       "   'sMsg': 'Order placed',\n",
       "   'tag': ''},\n",
       "  {'clOrdId': '',\n",
       "   'ordId': '665510357548797958',\n",
       "   'sCode': '0',\n",
       "   'sMsg': 'Order placed',\n",
       "   'tag': ''}],\n",
       " 'inTime': '1704942033824788',\n",
       " 'msg': '',\n",
       " 'outTime': '1704942033826087'}"
      ]
     },
     "execution_count": 20,
     "metadata": {},
     "output_type": "execute_result"
    }
   ],
   "source": [
    "# limit order\n",
    "tradeAPI.place_multiple_orders([\n",
    "    {\n",
    "        \"instId\": \"BTC-USDT-SWAP\",\n",
    "        \"tdMode\": \"cross\",\n",
    "        \"side\": \"buy\",\n",
    "        \"posSide\": \"long\",\n",
    "        \"ordType\": \"limit\",\n",
    "        \"px\": \"10\",\n",
    "        \"sz\": \"1\" # The BTC lot size is 0.01, so `sz` 5 means 0.05 BTC\n",
    "    },\n",
    "    {   \n",
    "        \"instId\": \"ETH-USDT-SWAP\",\n",
    "        \"tdMode\": \"cross\",\n",
    "        \"side\": \"sell\",\n",
    "        \"posSide\": \"short\",\n",
    "        \"ordType\": \"limit\",\n",
    "        \"px\": \"10000\",\n",
    "        \"sz\": \"1\" # The ETH lot size is 0.1, so `sz` 2 means 0.2 ETH\n",
    "    }\n",
    "])"
   ]
  },
  {
   "cell_type": "markdown",
   "metadata": {},
   "source": [
    "# Orders Cancelled"
   ]
  },
  {
   "cell_type": "code",
   "execution_count": 36,
   "metadata": {},
   "outputs": [
    {
     "name": "stdout",
     "output_type": "stream",
     "text": [
      "body:  \n",
      "header:  {'Content-Type': 'application/json', 'OK-ACCESS-KEY': '47947c28-9e11-475e-9f51-624f7e333e90', 'OK-ACCESS-SIGN': b'9x/9t9GdCxzFolh41F2h5/QdF9PGTGn7rbNFpwSjyhw=', 'OK-ACCESS-TIMESTAMP': '2024-01-11T03:54:57.079Z', 'OK-ACCESS-PASSPHRASE': 'zyzzit-zEjqur-jijwo8', 'x-simulated-trading': '0'}\n",
      "domain: https://www.okx.com\n",
      "url: /api/v5/trade/orders-pending\n",
      "body:  {\"instId\": \"ETH-USDT-SWAP\", \"ordId\": \"665510357548797958\", \"clOrdId\": \"\"}\n",
      "header:  {'Content-Type': 'application/json', 'OK-ACCESS-KEY': '47947c28-9e11-475e-9f51-624f7e333e90', 'OK-ACCESS-SIGN': b'Ja+6NlL8oxpOPCyd+MoEfLVPerJnjqMvvGZPdJ3tZaw=', 'OK-ACCESS-TIMESTAMP': '2024-01-11T03:54:58.130Z', 'OK-ACCESS-PASSPHRASE': 'zyzzit-zEjqur-jijwo8', 'x-simulated-trading': '0'}\n",
      "domain: https://www.okx.com\n",
      "url: /api/v5/trade/cancel-order\n",
      "body:  {\"instId\": \"BTC-USDT-SWAP\", \"ordId\": \"665510357548797957\", \"clOrdId\": \"\"}\n",
      "header:  {'Content-Type': 'application/json', 'OK-ACCESS-KEY': '47947c28-9e11-475e-9f51-624f7e333e90', 'OK-ACCESS-SIGN': b'Yq4ImzAge4xxIrbaRpJfjFnVZfvNhQ4fTBKSzVhBeWY=', 'OK-ACCESS-TIMESTAMP': '2024-01-11T03:54:58.310Z', 'OK-ACCESS-PASSPHRASE': 'zyzzit-zEjqur-jijwo8', 'x-simulated-trading': '0'}\n",
      "domain: https://www.okx.com\n",
      "url: /api/v5/trade/cancel-order\n"
     ]
    }
   ],
   "source": [
    "order_list = tradeAPI.get_order_list()\n",
    "orders = order_list['data']\n",
    "\n",
    "for order in orders:\n",
    "    tradeAPI.cancel_order(order['instId'], ordId=order['ordId'])\n",
    "\n",
    "print(\"All orders cancelled\")"
   ]
  },
  {
   "cell_type": "code",
   "execution_count": null,
   "metadata": {},
   "outputs": [],
   "source": []
  }
 ],
 "metadata": {
  "kernelspec": {
   "display_name": "okx",
   "language": "python",
   "name": "python3"
  },
  "language_info": {
   "codemirror_mode": {
    "name": "ipython",
    "version": 3
   },
   "file_extension": ".py",
   "mimetype": "text/x-python",
   "name": "python",
   "nbconvert_exporter": "python",
   "pygments_lexer": "ipython3",
   "version": "3.12.1"
  }
 },
 "nbformat": 4,
 "nbformat_minor": 2
}
